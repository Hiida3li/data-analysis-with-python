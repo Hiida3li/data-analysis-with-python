{
 "cells": [
  {
   "cell_type": "code",
   "id": "initial_id",
   "metadata": {
    "collapsed": true,
    "ExecuteTime": {
     "end_time": "2025-07-25T15:14:55.130586Z",
     "start_time": "2025-07-25T15:14:55.112890Z"
    }
   },
   "source": [
    "import pandas as pd\n",
    "import plotly.express as px\n",
    "import plotly.graph_objects as go\n",
    "import plotly.io as pio\n",
    "pio.templates.default = \"plotly_white\"\n",
    "import plotly.colors as colors"
   ],
   "outputs": [],
   "execution_count": 2
  },
  {
   "metadata": {
    "ExecuteTime": {
     "end_time": "2025-07-25T15:45:13.168171Z",
     "start_time": "2025-07-25T15:45:12.858085Z"
    }
   },
   "cell_type": "code",
   "source": "df = pd.read_excel('../data/Sample-superstore.xls', engine='xlrd')",
   "id": "568f3ced798a2f6d",
   "outputs": [],
   "execution_count": 10
  },
  {
   "metadata": {
    "ExecuteTime": {
     "end_time": "2025-07-25T15:49:12.090952Z",
     "start_time": "2025-07-25T15:49:12.083722Z"
    }
   },
   "cell_type": "code",
   "source": "print(df.isna().sum()) # Checking for Missing Values",
   "id": "32a4811e2857a133",
   "outputs": [
    {
     "name": "stdout",
     "output_type": "stream",
     "text": [
      "Row ID           0\n",
      "Order ID         0\n",
      "Order Date       0\n",
      "Ship Date        0\n",
      "Ship Mode        0\n",
      "Customer ID      0\n",
      "Customer Name    0\n",
      "Segment          0\n",
      "Country          0\n",
      "City             0\n",
      "State            0\n",
      "Postal Code      0\n",
      "Region           0\n",
      "Product ID       0\n",
      "Category         0\n",
      "Sub-Category     0\n",
      "Product Name     0\n",
      "Sales            0\n",
      "Quantity         0\n",
      "Discount         0\n",
      "Profit           0\n",
      "dtype: int64\n"
     ]
    }
   ],
   "execution_count": 16
  },
  {
   "metadata": {
    "ExecuteTime": {
     "end_time": "2025-07-25T16:29:17.854574Z",
     "start_time": "2025-07-25T16:29:17.831016Z"
    }
   },
   "cell_type": "code",
   "source": [
    "# fixing Data Types in Order Date and Ship Date\n",
    "df['Order Date'] = pd.to_datetime(df['Order Date'])\n",
    "df['Ship Date'] = pd.to_datetime(df['Ship Date'])"
   ],
   "id": "4492f31040fe9022",
   "outputs": [],
   "execution_count": 26
  },
  {
   "metadata": {
    "ExecuteTime": {
     "end_time": "2025-07-25T16:29:18.900655Z",
     "start_time": "2025-07-25T16:29:18.895002Z"
    }
   },
   "cell_type": "code",
   "source": [
    "df['Order Year'] = df['Order Date'].dt.year\n",
    "df['Order Month'] = df['Order Date'].dt.month\n",
    "df['Order Day of Week'] = df['Order Date'].dt.dayofweek"
   ],
   "id": "d5b959711eb63218",
   "outputs": [],
   "execution_count": 27
  },
  {
   "metadata": {
    "ExecuteTime": {
     "end_time": "2025-07-25T16:33:18.029111Z",
     "start_time": "2025-07-25T16:33:18.013827Z"
    }
   },
   "cell_type": "code",
   "source": "df.info()",
   "id": "c62f293c09a62046",
   "outputs": [
    {
     "name": "stdout",
     "output_type": "stream",
     "text": [
      "<class 'pandas.core.frame.DataFrame'>\n",
      "RangeIndex: 9994 entries, 0 to 9993\n",
      "Data columns (total 25 columns):\n",
      " #   Column             Non-Null Count  Dtype         \n",
      "---  ------             --------------  -----         \n",
      " 0   Row ID             9994 non-null   int64         \n",
      " 1   Order ID           9994 non-null   object        \n",
      " 2   Order Date         9994 non-null   datetime64[ns]\n",
      " 3   Ship Date          9994 non-null   datetime64[ns]\n",
      " 4   Ship Mode          9994 non-null   object        \n",
      " 5   Customer ID        9994 non-null   object        \n",
      " 6   Customer Name      9994 non-null   object        \n",
      " 7   Segment            9994 non-null   object        \n",
      " 8   Country            9994 non-null   object        \n",
      " 9   City               9994 non-null   object        \n",
      " 10  State              9994 non-null   object        \n",
      " 11  Postal Code        9994 non-null   int64         \n",
      " 12  Region             9994 non-null   object        \n",
      " 13  Product ID         9994 non-null   object        \n",
      " 14  Category           9994 non-null   object        \n",
      " 15  Sub-Category       9994 non-null   object        \n",
      " 16  Product Name       9994 non-null   object        \n",
      " 17  Sales              9994 non-null   float64       \n",
      " 18  Quantity           9994 non-null   int64         \n",
      " 19  Discount           9994 non-null   float64       \n",
      " 20  Profit             9994 non-null   float64       \n",
      " 21  Order Year         9994 non-null   int32         \n",
      " 22  Order Month        9994 non-null   int32         \n",
      " 23  Order Day          9994 non-null   int32         \n",
      " 24  Order Day of Week  9994 non-null   int32         \n",
      "dtypes: datetime64[ns](2), float64(3), int32(4), int64(3), object(13)\n",
      "memory usage: 1.8+ MB\n"
     ]
    }
   ],
   "execution_count": 31
  },
  {
   "metadata": {
    "ExecuteTime": {
     "end_time": "2025-07-25T16:35:21.673327Z",
     "start_time": "2025-07-25T16:35:21.592092Z"
    }
   },
   "cell_type": "code",
   "source": "df.to_csv('../data/superstore_cleaned.csv', index=False)",
   "id": "a56fa51dd5e25227",
   "outputs": [],
   "execution_count": 33
  },
  {
   "metadata": {
    "ExecuteTime": {
     "end_time": "2025-07-25T16:29:19.981072Z",
     "start_time": "2025-07-25T16:29:19.966724Z"
    }
   },
   "cell_type": "code",
   "source": "print(df.duplicated().sum())",
   "id": "99856caafe6f6c62",
   "outputs": [
    {
     "name": "stdout",
     "output_type": "stream",
     "text": [
      "0\n"
     ]
    }
   ],
   "execution_count": 28
  },
  {
   "metadata": {
    "ExecuteTime": {
     "end_time": "2025-07-25T16:30:30.281969Z",
     "start_time": "2025-07-25T16:30:30.255442Z"
    }
   },
   "cell_type": "code",
   "source": "df.describe()",
   "id": "ea002cb6da518de5",
   "outputs": [
    {
     "data": {
      "text/plain": [
       "            Row ID                     Order Date  \\\n",
       "count  9994.000000                           9994   \n",
       "mean   4997.500000  2016-04-30 00:07:12.259355648   \n",
       "min       1.000000            2014-01-03 00:00:00   \n",
       "25%    2499.250000            2015-05-23 00:00:00   \n",
       "50%    4997.500000            2016-06-26 00:00:00   \n",
       "75%    7495.750000            2017-05-14 00:00:00   \n",
       "max    9994.000000            2017-12-30 00:00:00   \n",
       "std    2885.163629                            NaN   \n",
       "\n",
       "                           Ship Date   Postal Code         Sales     Quantity  \\\n",
       "count                           9994   9994.000000   9994.000000  9994.000000   \n",
       "mean   2016-05-03 23:06:58.571142912  55190.379428    229.858001     3.789574   \n",
       "min              2014-01-07 00:00:00   1040.000000      0.444000     1.000000   \n",
       "25%              2015-05-27 00:00:00  23223.000000     17.280000     2.000000   \n",
       "50%              2016-06-29 00:00:00  56430.500000     54.490000     3.000000   \n",
       "75%              2017-05-18 00:00:00  90008.000000    209.940000     5.000000   \n",
       "max              2018-01-05 00:00:00  99301.000000  22638.480000    14.000000   \n",
       "std                              NaN  32063.693350    623.245101     2.225110   \n",
       "\n",
       "          Discount       Profit   Order Year  Order Month    Order Day  \\\n",
       "count  9994.000000  9994.000000  9994.000000  9994.000000  9994.000000   \n",
       "mean      0.156203    28.656896  2015.722233     7.809686    15.468481   \n",
       "min       0.000000 -6599.978000  2014.000000     1.000000     1.000000   \n",
       "25%       0.000000     1.728750  2015.000000     5.000000     8.000000   \n",
       "50%       0.200000     8.666500  2016.000000     9.000000    15.000000   \n",
       "75%       0.200000    29.364000  2017.000000    11.000000    23.000000   \n",
       "max       0.800000  8399.976000  2017.000000    12.000000    31.000000   \n",
       "std       0.206452   234.260108     1.123555     3.284654     8.748327   \n",
       "\n",
       "       Order Day of Week  \n",
       "count        9994.000000  \n",
       "mean            3.206324  \n",
       "min             0.000000  \n",
       "25%             1.000000  \n",
       "50%             4.000000  \n",
       "75%             5.000000  \n",
       "max             6.000000  \n",
       "std             2.122925  "
      ],
      "text/html": [
       "<div>\n",
       "<style scoped>\n",
       "    .dataframe tbody tr th:only-of-type {\n",
       "        vertical-align: middle;\n",
       "    }\n",
       "\n",
       "    .dataframe tbody tr th {\n",
       "        vertical-align: top;\n",
       "    }\n",
       "\n",
       "    .dataframe thead th {\n",
       "        text-align: right;\n",
       "    }\n",
       "</style>\n",
       "<table border=\"1\" class=\"dataframe\">\n",
       "  <thead>\n",
       "    <tr style=\"text-align: right;\">\n",
       "      <th></th>\n",
       "      <th>Row ID</th>\n",
       "      <th>Order Date</th>\n",
       "      <th>Ship Date</th>\n",
       "      <th>Postal Code</th>\n",
       "      <th>Sales</th>\n",
       "      <th>Quantity</th>\n",
       "      <th>Discount</th>\n",
       "      <th>Profit</th>\n",
       "      <th>Order Year</th>\n",
       "      <th>Order Month</th>\n",
       "      <th>Order Day</th>\n",
       "      <th>Order Day of Week</th>\n",
       "    </tr>\n",
       "  </thead>\n",
       "  <tbody>\n",
       "    <tr>\n",
       "      <th>count</th>\n",
       "      <td>9994.000000</td>\n",
       "      <td>9994</td>\n",
       "      <td>9994</td>\n",
       "      <td>9994.000000</td>\n",
       "      <td>9994.000000</td>\n",
       "      <td>9994.000000</td>\n",
       "      <td>9994.000000</td>\n",
       "      <td>9994.000000</td>\n",
       "      <td>9994.000000</td>\n",
       "      <td>9994.000000</td>\n",
       "      <td>9994.000000</td>\n",
       "      <td>9994.000000</td>\n",
       "    </tr>\n",
       "    <tr>\n",
       "      <th>mean</th>\n",
       "      <td>4997.500000</td>\n",
       "      <td>2016-04-30 00:07:12.259355648</td>\n",
       "      <td>2016-05-03 23:06:58.571142912</td>\n",
       "      <td>55190.379428</td>\n",
       "      <td>229.858001</td>\n",
       "      <td>3.789574</td>\n",
       "      <td>0.156203</td>\n",
       "      <td>28.656896</td>\n",
       "      <td>2015.722233</td>\n",
       "      <td>7.809686</td>\n",
       "      <td>15.468481</td>\n",
       "      <td>3.206324</td>\n",
       "    </tr>\n",
       "    <tr>\n",
       "      <th>min</th>\n",
       "      <td>1.000000</td>\n",
       "      <td>2014-01-03 00:00:00</td>\n",
       "      <td>2014-01-07 00:00:00</td>\n",
       "      <td>1040.000000</td>\n",
       "      <td>0.444000</td>\n",
       "      <td>1.000000</td>\n",
       "      <td>0.000000</td>\n",
       "      <td>-6599.978000</td>\n",
       "      <td>2014.000000</td>\n",
       "      <td>1.000000</td>\n",
       "      <td>1.000000</td>\n",
       "      <td>0.000000</td>\n",
       "    </tr>\n",
       "    <tr>\n",
       "      <th>25%</th>\n",
       "      <td>2499.250000</td>\n",
       "      <td>2015-05-23 00:00:00</td>\n",
       "      <td>2015-05-27 00:00:00</td>\n",
       "      <td>23223.000000</td>\n",
       "      <td>17.280000</td>\n",
       "      <td>2.000000</td>\n",
       "      <td>0.000000</td>\n",
       "      <td>1.728750</td>\n",
       "      <td>2015.000000</td>\n",
       "      <td>5.000000</td>\n",
       "      <td>8.000000</td>\n",
       "      <td>1.000000</td>\n",
       "    </tr>\n",
       "    <tr>\n",
       "      <th>50%</th>\n",
       "      <td>4997.500000</td>\n",
       "      <td>2016-06-26 00:00:00</td>\n",
       "      <td>2016-06-29 00:00:00</td>\n",
       "      <td>56430.500000</td>\n",
       "      <td>54.490000</td>\n",
       "      <td>3.000000</td>\n",
       "      <td>0.200000</td>\n",
       "      <td>8.666500</td>\n",
       "      <td>2016.000000</td>\n",
       "      <td>9.000000</td>\n",
       "      <td>15.000000</td>\n",
       "      <td>4.000000</td>\n",
       "    </tr>\n",
       "    <tr>\n",
       "      <th>75%</th>\n",
       "      <td>7495.750000</td>\n",
       "      <td>2017-05-14 00:00:00</td>\n",
       "      <td>2017-05-18 00:00:00</td>\n",
       "      <td>90008.000000</td>\n",
       "      <td>209.940000</td>\n",
       "      <td>5.000000</td>\n",
       "      <td>0.200000</td>\n",
       "      <td>29.364000</td>\n",
       "      <td>2017.000000</td>\n",
       "      <td>11.000000</td>\n",
       "      <td>23.000000</td>\n",
       "      <td>5.000000</td>\n",
       "    </tr>\n",
       "    <tr>\n",
       "      <th>max</th>\n",
       "      <td>9994.000000</td>\n",
       "      <td>2017-12-30 00:00:00</td>\n",
       "      <td>2018-01-05 00:00:00</td>\n",
       "      <td>99301.000000</td>\n",
       "      <td>22638.480000</td>\n",
       "      <td>14.000000</td>\n",
       "      <td>0.800000</td>\n",
       "      <td>8399.976000</td>\n",
       "      <td>2017.000000</td>\n",
       "      <td>12.000000</td>\n",
       "      <td>31.000000</td>\n",
       "      <td>6.000000</td>\n",
       "    </tr>\n",
       "    <tr>\n",
       "      <th>std</th>\n",
       "      <td>2885.163629</td>\n",
       "      <td>NaN</td>\n",
       "      <td>NaN</td>\n",
       "      <td>32063.693350</td>\n",
       "      <td>623.245101</td>\n",
       "      <td>2.225110</td>\n",
       "      <td>0.206452</td>\n",
       "      <td>234.260108</td>\n",
       "      <td>1.123555</td>\n",
       "      <td>3.284654</td>\n",
       "      <td>8.748327</td>\n",
       "      <td>2.122925</td>\n",
       "    </tr>\n",
       "  </tbody>\n",
       "</table>\n",
       "</div>"
      ]
     },
     "execution_count": 30,
     "metadata": {},
     "output_type": "execute_result"
    }
   ],
   "execution_count": 30
  }
 ],
 "metadata": {
  "kernelspec": {
   "display_name": "Python (myenv)",
   "language": "python",
   "name": "myenv"
  },
  "language_info": {
   "codemirror_mode": {
    "name": "ipython",
    "version": 2
   },
   "file_extension": ".py",
   "mimetype": "text/x-python",
   "name": "python",
   "nbconvert_exporter": "python",
   "pygments_lexer": "ipython2",
   "version": "2.7.6"
  }
 },
 "nbformat": 4,
 "nbformat_minor": 5
}
